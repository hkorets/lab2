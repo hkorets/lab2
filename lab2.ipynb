{
 "cells": [
  {
   "cell_type": "markdown",
   "metadata": {},
   "source": [
    "### Лабораторна робота №2: \"Імплементація алгоритмів стиснення\""
   ]
  },
  {
   "cell_type": "markdown",
   "metadata": {},
   "source": [
    "#### Корець Христина і Кирилова Ірина"
   ]
  },
  {
   "cell_type": "markdown",
   "metadata": {},
   "source": [
    "### Алгоритм Гаффмана"
   ]
  },
  {
   "cell_type": "code",
   "execution_count": 51,
   "metadata": {},
   "outputs": [],
   "source": [
    "import time\n",
    "import matplotlib.pyplot as plt"
   ]
  },
  {
   "cell_type": "markdown",
   "metadata": {},
   "source": [
    "#### Клас Huffman реалізує алгоритм стиснення даних методом Хаффмана, який ґрунтується на побудові оптимального префіксного коду для символів вихідного тексту з урахуванням їх відносних частот зустрічання. Основними етапами алгоритму є: зчитування файлу методом readfile, обчислення частот символів у тексті та їх нормалізація за допомогою методу find_frequency, побудова дерева Хаффмана за допомогою методу build_tree, який об'єднує найменші вузли до утворення кореневого вузла, створення бінарних кодів для символів за допомогою рекурсивного обходу дерева у методі huffman_codes, кодування тексту за отриманими кодами методом encode, та декодування закодованого тексту методом decode. Головна ідея алгоритму полягає у тому, що символи з меншими частотами отримують коротші бінарні коди, що дозволяє ефективно стиснути дані, зокрема в тих випадках, коли деякі символи зустрічаються частіше за інші."
   ]
  },
  {
   "cell_type": "code",
   "execution_count": 2,
   "metadata": {},
   "outputs": [],
   "source": [
    "\n",
    "import heapq\n",
    "class Node:\n",
    "    \"\"\"\n",
    "    Node class.\n",
    "    \"\"\"\n",
    "    def __init__(self, char = None, freq = 0, left = None, right = None):\n",
    "        self.left = left\n",
    "        self.right = right\n",
    "        self.char = char\n",
    "        self.freq = freq\n",
    "\n",
    "    def __lt__(self, other):\n",
    "        return self.freq < other.freq\n",
    "\n",
    "    def __repr__(self):\n",
    "        return f'Node(char={self.char}, freq={self.freq}, left = {self.left}, right = {self.right})'\n",
    "\n",
    "class Huffman:\n",
    "    \"\"\"\n",
    "    Huffman code class.\n",
    "    \"\"\"\n",
    "    def __init__(self, filename):\n",
    "        self.filename = filename\n",
    "        self.encoded = ''\n",
    "\n",
    "    def readfile(self):\n",
    "        \"\"\"\n",
    "        Read file.\n",
    "        \"\"\"\n",
    "        with open(self.filename, 'r', encoding = 'UTF-8') as f:\n",
    "            text = f.read()\n",
    "        return text\n",
    "\n",
    "    def find_frequency(self, text):\n",
    "        \"\"\"\n",
    "        Char frequency.\n",
    "        \"\"\"\n",
    "        frequency = {i: 0 for i in text}\n",
    "        for i in text:\n",
    "            frequency[i] += 1\n",
    "        for key, value in frequency.items():\n",
    "            frequency[key] = value/len(text)\n",
    "        return dict(reversed(sorted(frequency.items(), key = lambda x: x[1])))\n",
    "\n",
    "    def build_tree(self, frequency_dict):\n",
    "        \"\"\"\n",
    "        Tree.\n",
    "        \"\"\"\n",
    "        priority_queue = [Node(char=char, freq=freq) for char, freq in frequency_dict.items()]\n",
    "        heapq.heapify(priority_queue)\n",
    "        while len(priority_queue) > 1:\n",
    "            left = heapq.heappop(priority_queue)\n",
    "            right = heapq.heappop(priority_queue)\n",
    "            merged_node = Node(freq=left.freq + right.freq, left=left, right=right)\n",
    "            heapq.heappush(priority_queue, merged_node)\n",
    "        return priority_queue[0]\n",
    "\n",
    "    def huffman_codes(self, node, current_code, codes):\n",
    "        \"\"\"\n",
    "        Making huffman code.\n",
    "        \"\"\"\n",
    "        if node is not None:\n",
    "            if node.char is not None:\n",
    "                codes[node.char] = current_code\n",
    "            self.huffman_codes(node.left, current_code + \"0\", codes)\n",
    "            self.huffman_codes(node.right, current_code + \"1\", codes)\n",
    "\n",
    "    def encode(self, text: str) -> tuple[str, dict[str, str]]:\n",
    "        \"\"\"\n",
    "        Encoding.\n",
    "        \"\"\"\n",
    "        frequency_dict = self.find_frequency(text)\n",
    "        root = self.build_tree(frequency_dict)\n",
    "        codes = {}\n",
    "        self.huffman_codes(root, \"\", codes)\n",
    "        encoded_data = ''.join(codes[char] for char in text)\n",
    "        with open(self.filename, 'w', encoding = 'UTF-8') as f:\n",
    "            f.write(encoded_data)\n",
    "        return encoded_data\n",
    "\n",
    "    def decode(self, code: str, coding_dict: dict[str, str]):\n",
    "        \"\"\"\n",
    "        Decoding.\n",
    "        \"\"\"\n",
    "        decoded_data = \"\"\n",
    "        current_code = \"\"\n",
    "        reverse_codes = {code: char for char, code in coding_dict.items()}\n",
    "        for bit in code:\n",
    "            current_code += bit\n",
    "            if current_code in reverse_codes:\n",
    "                decoded_data += reverse_codes[current_code]\n",
    "                current_code = \"\"\n",
    "        with open(self.filename, 'w', encoding = 'UTF-8') as f:\n",
    "            f.write(decoded_data)\n",
    "        return decoded_data"
   ]
  },
  {
   "cell_type": "code",
   "execution_count": 105,
   "metadata": {},
   "outputs": [
    {
     "name": "stdout",
     "output_type": "stream",
     "text": [
      "Encode: 0111110000010110110101001001100110111111010\n",
      "Decode: HelloHuffman!\n"
     ]
    }
   ],
   "source": [
    "file_2 = \"HelloHuffman!\"\n",
    "frequency_2 = gg.find_frequency(file_2)\n",
    "encoded_2 = gg.encode(file_2)\n",
    "decoded_2 = gg.decode(encoded_2, {'l': '00', 'u': '010', 'H': '011', 'f': '100', '!': '1010', 'o': '1011', 'm': '1100', 'a': '1101', 'e': '1110', 'n': '1111'})\n",
    "print(f\"Encode: {encoded_2}\")\n",
    "print(f\"Decode: {decoded_2}\")"
   ]
  },
  {
   "cell_type": "code",
   "execution_count": 111,
   "metadata": {},
   "outputs": [
    {
     "name": "stdout",
     "output_type": "stream",
     "text": [
      "Encode Time: 0.0020225048065185547\n",
      "Decode Time: 0.001973390579223633\n"
     ]
    }
   ],
   "source": [
    "text = \"In the heart of the bustling city, where the rhythmic symphony of footsteps and honking horns creates a lively melody, there exists a hidden oasis of tranquility. Tucked away from the chaos, a quaint park welcomes weary souls with open arms. Lush greenery, adorned with vibrant blossoms, provides a visual feast for those seeking refuge from the concrete jungle. The gentle rustling of leaves and the distant hum of the city form a harmonious duet, inviting contemplation and introspection. A meandering pathway, paved with cobblestones, guides visitors through this sanctuary of serenity. Benches, strategically placed beneath the shade of ancient trees, offer a quiet space for reflection and connection with nature. It's a haven where the relentless pace of urban life takes a backseat to the unhurried dance of sunlight filtering through leaves. As the day unfolds, the park transforms. Morning joggers set the tone for an energetic start, while noon witnesses picnics and laughter. In the afternoon, artists find inspiration in the play of light and shadow, creating a\"\n",
    "start_encode = time.time()\n",
    "encoded_text = gg.encode(text)\n",
    "end_encode = time.time()\n",
    "encode_time = end_encode - start_encode\n",
    "\n",
    "start_decode = time.time()\n",
    "decoded_text = gg.decode(encoded_text,  {'e': '000', 'd': '00100', 'w': '001010', \"'\": '001011000', 'T': '001011001', 'j': '001011010', 'A': '001011011', 'k': '0010111', 'r': '0011', 'c': '01000', ',': '010010', 'm': '010011', 'f': '01010', 'l': '01011', 'i': '0110', 'o': '0111', 's': '1000', 'a': '1001', 'p': '101000', 'b': '1010010', '.': '1010011', 'y': '101010', 'v': '1010110', 'M': '1010111000', 'x': '1010111001', 'L': '1010111010', 'B': '1010111011', 'I': '101011110', 'q': '101011111', 'n': '1011', ' ': '110', 't': '1110', 'g': '111100', 'u': '111101', 'h': '11111'})\n",
    "end_decode = time.time()\n",
    "decode_time = end_decode - start_decode\n",
    "\n",
    "print(\"Encode Time:\", encode_time)\n",
    "print(\"Decode Time:\", decode_time)"
   ]
  },
  {
   "cell_type": "code",
   "execution_count": 112,
   "metadata": {},
   "outputs": [
    {
     "data": {
      "image/png": "[encoded data removed]",
      "text/plain": [
       "<Figure size 1080x720 with 1 Axes>"
      ]
     },
     "metadata": {
      "needs_background": "light"
     },
     "output_type": "display_data"
    }
   ],
   "source": [
    "x = [13, 127, 161, 564, 1038]\n",
    "y = [0.0010776519775390625, 0.0023980140686035156, 0.0029735565185546875, 0.0008935928344726562, 0.0020225048065185547]\n",
    "z = [0.0003399848937988281, 0.0018596649169921875, 0.002329111099243164, 0.0007915496826171875, 0.001973390579223633]\n",
    "plt.figure(figsize=(15, 10))\n",
    "plt.plot(x, y, color='red', linestyle='--', marker='o', markerfacecolor='red', markeredgewidth=2)\n",
    "plt.plot(x, z, color='blue', linestyle='--', marker='o', markerfacecolor='red', markeredgewidth=2)\n",
    "plt.show()"
   ]
  },
  {
   "cell_type": "markdown",
   "metadata": {},
   "source": [
    "#### З графіка помітно, що алгоритм достатньо непердбачуваний, вірогідно результат залежить від кількості патернів і повторювання елементів. Декодування працює швидше ніж кодування. "
   ]
  },
  {
   "cell_type": "code",
   "execution_count": null,
   "metadata": {},
   "outputs": [],
   "source": [
    "def compression_ratio(original_text, compressed_text):\n",
    "    original_length = len(original_text)\n",
    "    compressed_length = len(compressed_text)\n",
    "    ratio = (original_length - compressed_length) / original_length * 100\n",
    "    return ratio"
   ]
  },
  {
   "cell_type": "code",
   "execution_count": 113,
   "metadata": {},
   "outputs": [
    {
     "name": "stdout",
     "output_type": "stream",
     "text": [
      "-223.0769230769231\n",
      "-306.2992125984252\n",
      "-350.34213098729225\n"
     ]
    }
   ],
   "source": [
    "text = \"Hello, World!\"\n",
    "text1 = \"Holdin' me back \\\n",
    "    Gravity's holdin' me back\\\n",
    "    I want you to hold out the palm of your hand\\\n",
    "    Why don't we leave it at that?\"\n",
    "text2 = \"thank you, said Professor McGonagall coldly, as though\\\n",
    " she didnt think this was the moment for sherbet lemons. As I say,\\\n",
    " even if You-Know-Who has gone\\\n",
    " M y dear Professor, surely a sensible person like yourself can\\\n",
    " call him by his name? All this You-Know-Who nonsense for\\\n",
    " eleven years I have been trying to persuade people to call him by\\\n",
    " his proper name: Voldemort. Professor McGonagall flinched, but\\\n",
    " Dumbledore, who was unsticking two sherbet lemons, seemed\\\n",
    " not to notice. It all gets so confusing if we keep saying YouKnow-Who. I have never seen any reason to be frightened of\\\n",
    " saying Voldemorts name.\\\n",
    " I know you havent, said Professor McGonagall, sounding halfexasperated, half-admiring. But youre different. Everyone knows\\\n",
    " youre the only one You-Know oh, all right, Voldemort was\\\n",
    " frightened of.\\\n",
    " You flatter me, said Dumbledore calmly. Voldemort had\\\n",
    " powers I will never have.\\\n",
    " Only because youre too well noble to use them.\\\n",
    " Its lucky its dark. I havent blushed so much since Madam\\\n",
    " Pomfrey told me she liked my new earmuffs.\"\n",
    "print(compression_ratio(text, gg.encode(text)))\n",
    "print(compression_ratio(text1, gg.encode(text1)))\n",
    "print(compression_ratio(text2, gg.encode(text2)))"
   ]
  },
  {
   "cell_type": "markdown",
   "metadata": {},
   "source": [
    "### Алгоритм LZW\n"
   ]
  },
  {
   "cell_type": "markdown",
   "metadata": {},
   "source": [
    "##### Ініціалізація словника: На початку стиснення створюється словник, який містить всі можливі однобуквенні символи, наприклад, ASCII символи. Кожному символу призначається унікальний код.\n",
    "##### Кодування тексту: Починаючи з початку тексту, алгоритм шукає найдовший префіксний рядок, який вже є в словнику. Цей рядок відображається у вихідному потоці як його відповідний код. Якщо поточний рядок, який розглядається, не знайдено в словнику, він додається до словника, а його відповідний код виводиться у вихідний потік. Потім починається обробка наступного символу, що складається з попереднього рядка та наступного символу тексту.\n",
    "##### Декодування коду: Під час декодування коду алгоритм використовує структуру словника, щоб відновити початковий текст. Він отримує послідовність кодів та починає розглядати кожен код. Він знаходить відповідний символ у словнику та виводить його. Якщо наступний код не знайдено в словнику, алгоритм використовує останній виведений рядок та додає до нього перший символ цього рядка."
   ]
  },
  {
   "cell_type": "code",
   "execution_count": 40,
   "metadata": {},
   "outputs": [],
   "source": [
    "class LZW:\n",
    "    def __init__(self, filename):\n",
    "        self.filename = filename\n",
    "\n",
    "    def read_file(self):\n",
    "        with open(self.filename, 'r', encoding = 'UTF-8') as f:\n",
    "            text = f.read()\n",
    "        return text\n",
    "\n",
    "    def encode(self, text: str) -> list:\n",
    "        size = 256\n",
    "        dictionary = {chr(i): i for i in range(size)}\n",
    "        current = ''\n",
    "        result = []\n",
    "        for i in text:\n",
    "            test_str = current + i\n",
    "            if test_str in dictionary:\n",
    "                current = test_str\n",
    "            else:\n",
    "                result.append(str(dictionary[current]))\n",
    "                dictionary[test_str] = size\n",
    "                size += 1\n",
    "                current = i\n",
    "        result.append(str(dictionary[current]))\n",
    "        with open(self.filename, 'w', encoding = 'UTF-8') as f:\n",
    "            file_result = [str(i) for i in result]\n",
    "            f.write(' '.join(file_result))\n",
    "        return \" \".join(result)\n",
    "\n",
    "    def decode(self, code: str) -> str:\n",
    "        result = []\n",
    "        size = 256\n",
    "        dictionary = {i: chr(i) for i in range(size)}\n",
    "        codes = list(map(int, code.split(' ')))\n",
    "        current_code = codes.pop(0)\n",
    "        result.append(dictionary[current_code])\n",
    "        for code in codes:\n",
    "            if code in dictionary:\n",
    "                entry = dictionary[code]\n",
    "            else:\n",
    "                entry = dictionary[current_code] + dictionary[current_code][0]\n",
    "            result.append(entry)\n",
    "            dictionary[size] = dictionary[current_code] + entry[0]\n",
    "            size += 1\n",
    "            current_code = code\n",
    "        with open(self.filename, 'w', encoding = 'UTF-8') as f:\n",
    "            f.write(''.join(result))\n",
    "        return ''.join(result)"
   ]
  },
  {
   "cell_type": "code",
   "execution_count": 42,
   "metadata": {},
   "outputs": [
    {
     "name": "stdout",
     "output_type": "stream",
     "text": [
      "Encode: 72 101 108 108 111 44 32 87 111 114 108 100 33\n",
      "Decode: Hello, World!\n"
     ]
    }
   ],
   "source": [
    "lzw = LZW(\"test.txt\")\n",
    "compressed = lzw.encode('Hello, World!')\n",
    "decompressed = lzw.decode(compressed)\n",
    "print(f\"Encode: {compressed}\")\n",
    "print(f\"Decode: {decompressed}\")"
   ]
  },
  {
   "cell_type": "code",
   "execution_count": 87,
   "metadata": {},
   "outputs": [
    {
     "name": "stdout",
     "output_type": "stream",
     "text": [
      "Encode Time: 0.0036449432373046875\n",
      "Decode Time: 0.0030477046966552734\n"
     ]
    }
   ],
   "source": [
    "text = \"thank you, said Professor McGonagall coldly, as though\\\n",
    " she didnt think this was the moment for sherbet lemons. As I say,\\\n",
    " even if You-Know-Who has gone\\\n",
    " M y dear Professor, surely a sensible person like yourself can\\\n",
    " call him by his name? All this You-Know-Who nonsense for\\\n",
    " eleven years I have been trying to persuade people to call him by\\\n",
    " his proper name: Voldemort. Professor McGonagall flinched, but\\\n",
    " Dumbledore, who was unsticking two sherbet lemons, seemed\\\n",
    " not to notice. It all gets so confusing if we keep saying You-Know-Who. I have never seen any reason\"\n",
    "start_encode = time.time()\n",
    "encoded_text = lzw.encode(text)\n",
    "end_encode = time.time()\n",
    "encode_time = end_encode - start_encode\n",
    "\n",
    "start_decode = time.time()\n",
    "decoded_text = lzw.decode(encoded_text)\n",
    "end_decode = time.time()\n",
    "decode_time = end_decode - start_decode\n",
    "\n",
    "print(\"Encode Time:\", encode_time)\n",
    "print(\"Decode Time:\", decode_time)"
   ]
  },
  {
   "cell_type": "code",
   "execution_count": 88,
   "metadata": {},
   "outputs": [
    {
     "data": {
      "image/png": "[encoded data removed]",
      "text/plain": [
       "<Figure size 1080x720 with 1 Axes>"
      ]
     },
     "metadata": {
      "needs_background": "light"
     },
     "output_type": "display_data"
    }
   ],
   "source": [
    "x = [13, 127, 161, 564, 1038]\n",
    "y = [0.0016148090362548828, 0.005017280578613281, 0.0028684139251708984, 0.0036449432373046875, 0.0018444061279296875]\n",
    "z = [0.001028299331665039, 0.0017056465148925781, 0.0015413761138916016, 0.0030477046966552734, 0.0013396739959716797]\n",
    "plt.figure(figsize=(15, 10))\n",
    "plt.plot(x, y, color='red', linestyle='--', marker='o', markerfacecolor='red', markeredgewidth=2)\n",
    "plt.plot(x, z, color='blue', linestyle='--', marker='o', markerfacecolor='red', markeredgewidth=2)\n",
    "plt.show()"
   ]
  },
  {
   "cell_type": "markdown",
   "metadata": {},
   "source": [
    "#### З графіка можна помітити, що алгоритм LZW є дуже непередбачуваним і на пряму залежить від кількості патернів і вмісту тексту, до прикладу текст який містить 127 символів опрацьовувася вдвічі довше ніж текст з 1038-ма символами. Декодування займає менше часу ніж кодування. "
   ]
  },
  {
   "cell_type": "markdown",
   "metadata": {},
   "source": [
    "### Ступінь стиснення"
   ]
  },
  {
   "cell_type": "code",
   "execution_count": 96,
   "metadata": {},
   "outputs": [],
   "source": [
    "def compression_ratio(original_text, compressed_text):\n",
    "    original_length = len(original_text)\n",
    "    compressed_length = len(compressed_text.split(\" \"))\n",
    "    ratio = (original_length - compressed_length) / original_length * 100\n",
    "    return ratio"
   ]
  },
  {
   "cell_type": "code",
   "execution_count": 99,
   "metadata": {},
   "outputs": [
    {
     "name": "stdout",
     "output_type": "stream",
     "text": [
      "0.0\n",
      "26.77165354330709\n",
      "43.988269794721404\n"
     ]
    }
   ],
   "source": [
    "text = \"Hello, World!\"\n",
    "text1 = \"Holdin' me back \\\n",
    "    Gravity's holdin' me back\\\n",
    "    I want you to hold out the palm of your hand\\\n",
    "    Why don't we leave it at that?\"\n",
    "text2 = \"thank you, said Professor McGonagall coldly, as though\\\n",
    " she didnt think this was the moment for sherbet lemons. As I say,\\\n",
    " even if You-Know-Who has gone\\\n",
    " M y dear Professor, surely a sensible person like yourself can\\\n",
    " call him by his name? All this You-Know-Who nonsense for\\\n",
    " eleven years I have been trying to persuade people to call him by\\\n",
    " his proper name: Voldemort. Professor McGonagall flinched, but\\\n",
    " Dumbledore, who was unsticking two sherbet lemons, seemed\\\n",
    " not to notice. It all gets so confusing if we keep saying YouKnow-Who. I have never seen any reason to be frightened of\\\n",
    " saying Voldemorts name.\\\n",
    " I know you havent, said Professor McGonagall, sounding halfexasperated, half-admiring. But youre different. Everyone knows\\\n",
    " youre the only one You-Know oh, all right, Voldemort was\\\n",
    " frightened of.\\\n",
    " You flatter me, said Dumbledore calmly. Voldemort had\\\n",
    " powers I will never have.\\\n",
    " Only because youre too well noble to use them.\\\n",
    " Its lucky its dark. I havent blushed so much since Madam\\\n",
    " Pomfrey told me she liked my new earmuffs.\"\n",
    "print(compression_ratio(text, lzw.encode(text)))\n",
    "print(compression_ratio(text1, lzw.encode(text1)))\n",
    "print(compression_ratio(text2, lzw.encode(text2)))\n"
   ]
  },
  {
   "cell_type": "markdown",
   "metadata": {},
   "source": [
    "#### Алгоритм краще стискає текст з більшою кількістю повторень і патернів, також розмір впливає на результат"
   ]
  },
  {
   "cell_type": "markdown",
   "metadata": {},
   "source": [
    "### Алгоритм LZ77"
   ]
  },
  {
   "cell_type": "markdown",
   "metadata": {},
   "source": [
    "##### Клас LZ77 реалізує алгоритм стиснення даних LZ77 (Lempel-Ziv 1977), який використовує принцип слайдінгового вікна та зміщення для кодування повторюючихся фрагментів тексту. Під час кодування, текст розбивається на фрагменти, кожен з яких містить префікс - фрагмент, який вже був знайдений у попередній частині тексту, і символ, який не збігається з попереднім текстом. Цей фрагмент представлений як (зміщення, довжина) пара, де зміщення вказує на позицію в попередньому тексті, а довжина - на кількість символів, що повторюються в поточному тексті. Метод encode здійснює цей процес, формуючи послідовність токенів для вхідного тексту. Під час декодування, метод decode відновлює вихідний текст, використовуючи інформацію про зміщення та довжину, щоб відновити повторюючіся фрагменти. Цей алгоритм ефективно використовується для стиснення даних, особливо в текстових форматах, де є багато повторюючихся фрагментів."
   ]
  },
  {
   "cell_type": "code",
   "execution_count": 14,
   "metadata": {},
   "outputs": [],
   "source": [
    "class LZ77:\n",
    "    '''LZ77 Class Implementation'''\n",
    "    def __init__(self, buffer_size: int):\n",
    "        self.buffer_size = buffer_size\n",
    "\n",
    "    def encode(self, text: str) -> list[tuple[int, int, str]]:\n",
    "        '''Encoding information'''\n",
    "        def find_encoding_token(text: str, search_buffer: str) -> tuple[int, int, str]:\n",
    "            length, offset = 0, 0\n",
    "            if not search_buffer:\n",
    "                return offset, length, text[length]\n",
    "\n",
    "            for i, character in enumerate(search_buffer):\n",
    "                found_offset = len(search_buffer) - i\n",
    "                if character == text[0]:\n",
    "                    found_length = match_length_from_index(text, search_buffer, 0, i)\n",
    "                    if found_length >= length:\n",
    "                        offset, length = found_offset, found_length\n",
    "\n",
    "            return offset, length, text[length]\n",
    "\n",
    "        def match_length_from_index(\n",
    "            text: str, window: str, text_index: int, window_index: int\n",
    "        ) -> int:\n",
    "            if not text or text[text_index] != window[window_index]:\n",
    "                return 0\n",
    "            return 1 + match_length_from_index(\n",
    "                text, window + text[text_index], text_index + 1, window_index + 1\n",
    "            )\n",
    "\n",
    "        output = []\n",
    "        search_buffer = \"\"\n",
    "\n",
    "        while text:\n",
    "            token = find_encoding_token(text, search_buffer)\n",
    "            output.append((token[0], token[1], token[2]))\n",
    "            search_buffer += text[: token[1] + 1]\n",
    "            if len(search_buffer) > self.buffer_size:\n",
    "                search_buffer = search_buffer[-self.buffer_size :]\n",
    "            text = text[token[1] + 1 :]\n",
    "\n",
    "        return output\n",
    "\n",
    "\n",
    "    def decode(self, code: str) -> str:\n",
    "        '''Decoding'''\n",
    "        output = \"\"\n",
    "        for offset, length, char in code:\n",
    "            for _ in range(length):\n",
    "                output += output[-offset]\n",
    "            output += char\n",
    "\n",
    "        return output"
   ]
  },
  {
   "cell_type": "code",
   "execution_count": 49,
   "metadata": {},
   "outputs": [
    {
     "name": "stdout",
     "output_type": "stream",
     "text": [
      "Encoded: [(0, 0, 'H'), (0, 0, 'e'), (0, 0, 'l'), (1, 1, 'o'), (0, 0, ','), (0, 0, ' '), (0, 0, 'W'), (4, 1, 'r'), (0, 0, 'l'), (0, 0, 'd'), (0, 0, '!')]\n",
      "Decoded: Hello, World!\n"
     ]
    }
   ],
   "source": [
    "\n",
    "lz77 = LZ77(buffer_size=5)\n",
    "text = \"Hello, World!\"\n",
    "encoded_text = lz77.encode(text)\n",
    "decoded_text = lz77.decode(encoded_text)\n",
    "\n",
    "print(\"Encoded:\", encoded_text)\n",
    "print(\"Decoded:\", decoded_text)\n"
   ]
  },
  {
   "cell_type": "code",
   "execution_count": 70,
   "metadata": {},
   "outputs": [
    {
     "name": "stdout",
     "output_type": "stream",
     "text": [
      "Encode Time: 0.001390695571899414\n",
      "Decode Time: 0.0003437995910644531\n"
     ]
    }
   ],
   "source": [
    "text = \"‘No, thank you,’ said Professor McGonagall coldly, as though\\\n",
    " she didn’t think this was the moment for sherbet lemons. ‘As I say,\\\n",
    " even if You-Know-Who has gone –’\"\n",
    "start_encode = time.time()\n",
    "encoded_text = lz77.encode(text)\n",
    "end_encode = time.time()\n",
    "encode_time = end_encode - start_encode\n",
    "\n",
    "start_decode = time.time()\n",
    "decoded_text = lz77.decode(encoded_text)\n",
    "end_decode = time.time()\n",
    "decode_time = end_decode - start_decode\n",
    "\n",
    "print(\"Encode Time:\", encode_time)\n",
    "print(\"Decode Time:\", decode_time)"
   ]
  },
  {
   "cell_type": "code",
   "execution_count": 80,
   "metadata": {},
   "outputs": [
    {
     "data": {
      "image/png": "[encoded data removed]",
      "text/plain": [
       "<Figure size 1080x720 with 1 Axes>"
      ]
     },
     "metadata": {
      "needs_background": "light"
     },
     "output_type": "display_data"
    }
   ],
   "source": [
    "x = [13, 127, 161, 415, 1073]\n",
    "y = [0.0005295276641845703, 0.0002651214599609375, 0.001390695571899414, 0.0027208328247070312, 0.009793996810913086] #my algorithm\n",
    "z = [0.00018334388732910156, 7.891654968261719e-05, 0.0003437995910644531, 0.002157926559448242, 0.001169443130493164]\n",
    "plt.figure(figsize=(15, 10))\n",
    "plt.plot(x, y, color='red', linestyle='--', marker='o', markerfacecolor='red', markeredgewidth=2)\n",
    "plt.plot(x, z, color='blue', linestyle='--', marker='o', markerfacecolor='red', markeredgewidth=2)\n",
    "plt.show()"
   ]
  },
  {
   "cell_type": "markdown",
   "metadata": {},
   "source": [
    "#### З графіка можемо помітити, що процес кодування(червоний графік) займає більше часу ніж декодування(синій графік), також варто вказати, що при створенні цього графіка в одному з кейсів, а саме при кодуванні цитати \n",
    "    \"Holdin' me back \n",
    "    Gravity's holdin' me back\n",
    "    I want you to hold out the palm of your hand\n",
    "    Why don't we leave it at that?\"\n",
    "#### Час витрачений на декодування різко впав в порівнянні з минулим прикладом, та при подільшому порівнянні ми дійшли висновк,що це вийняток, адже потім графік став рівномірним."
   ]
  },
  {
   "cell_type": "markdown",
   "metadata": {},
   "source": [
    "### Ступінь стиснення"
   ]
  },
  {
   "cell_type": "code",
   "execution_count": 101,
   "metadata": {},
   "outputs": [],
   "source": [
    "def compression_ratio(original_text, compressed_text):\n",
    "    original_length = len(original_text)\n",
    "    compressed_length = len(compressed_text)\n",
    "    ratio = (original_length - compressed_length) / original_length * 100\n",
    "    return ratio"
   ]
  },
  {
   "cell_type": "code",
   "execution_count": 102,
   "metadata": {},
   "outputs": [
    {
     "name": "stdout",
     "output_type": "stream",
     "text": [
      "15.384615384615385\n",
      "25.984251968503933\n",
      "19.843597262952102\n"
     ]
    }
   ],
   "source": [
    "text = \"Hello, World!\"\n",
    "text1 = \"Holdin' me back \\\n",
    "    Gravity's holdin' me back\\\n",
    "    I want you to hold out the palm of your hand\\\n",
    "    Why don't we leave it at that?\"\n",
    "text2 = \"thank you, said Professor McGonagall coldly, as though\\\n",
    " she didnt think this was the moment for sherbet lemons. As I say,\\\n",
    " even if You-Know-Who has gone\\\n",
    " M y dear Professor, surely a sensible person like yourself can\\\n",
    " call him by his name? All this You-Know-Who nonsense for\\\n",
    " eleven years I have been trying to persuade people to call him by\\\n",
    " his proper name: Voldemort. Professor McGonagall flinched, but\\\n",
    " Dumbledore, who was unsticking two sherbet lemons, seemed\\\n",
    " not to notice. It all gets so confusing if we keep saying YouKnow-Who. I have never seen any reason to be frightened of\\\n",
    " saying Voldemorts name.\\\n",
    " I know you havent, said Professor McGonagall, sounding halfexasperated, half-admiring. But youre different. Everyone knows\\\n",
    " youre the only one You-Know oh, all right, Voldemort was\\\n",
    " frightened of.\\\n",
    " You flatter me, said Dumbledore calmly. Voldemort had\\\n",
    " powers I will never have.\\\n",
    " Only because youre too well noble to use them.\\\n",
    " Its lucky its dark. I havent blushed so much since Madam\\\n",
    " Pomfrey told me she liked my new earmuffs.\"\n",
    "print(compression_ratio(text, lz77.encode(text)))\n",
    "print(compression_ratio(text1, lz77.encode(text1)))\n",
    "print(compression_ratio(text2, lz77.encode(text2)))"
   ]
  },
  {
   "cell_type": "markdown",
   "metadata": {},
   "source": [
    "#### Алгоритм LZ77 достатньо вдало стискає текст, та результат також залежить від вмісту тексту і кількості патернів, що важливо відмітити, текст, який має найкращий результат у LZW у алгоритмі LZ77 стиснуто гірше ніж інші."
   ]
  },
  {
   "cell_type": "markdown",
   "metadata": {},
   "source": [
    "### Deflate"
   ]
  },
  {
   "cell_type": "code",
   "execution_count": 116,
   "metadata": {},
   "outputs": [],
   "source": [
    "class Deflate:\n",
    "    def __init__(self, buffer_size: int):\n",
    "        self.buffer_size = buffer_size\n",
    "\n",
    "    def encode(self, text: str) -> str:\n",
    "        lz77 = LZ77(self.buffer_size)\n",
    "        huffman = Huffman(\"txt.txt\")\n",
    "        lz77_enc = lz77.encode(text)\n",
    "        frequencies = {}\n",
    "        for tpl in lz77_enc:\n",
    "            if tpl[2] in frequencies:\n",
    "                frequencies[tpl[2]] += 1\n",
    "            else:\n",
    "                frequencies[tpl[2]] = 1\n",
    "        root = huffman.build_tree(frequencies)\n",
    "        codes = {}\n",
    "        huffman.huffman_codes(root, \"\", codes)\n",
    "        encoded_data = ''.join(codes[char] for char in text if char in codes)\n",
    "        return encoded_data\n",
    "\n",
    "    def decode(self, code: str) -> str:\n",
    "        pass\n"
   ]
  },
  {
   "cell_type": "code",
   "execution_count": 117,
   "metadata": {},
   "outputs": [
    {
     "name": "stdout",
     "output_type": "stream",
     "text": [
      "1100110101101110000010101010011100110011111\n"
     ]
    }
   ],
   "source": [
    "line = \"Hello, World!\"\n",
    "deflate = Deflate(10)\n",
    "print(deflate.encode(line))"
   ]
  }
 ],
 "metadata": {
  "kernelspec": {
   "display_name": "Python 3",
   "language": "python",
   "name": "python3"
  },
  "language_info": {
   "codemirror_mode": {
    "name": "ipython",
    "version": 3
   },
   "file_extension": ".py",
   "mimetype": "text/x-python",
   "name": "python",
   "nbconvert_exporter": "python",
   "pygments_lexer": "ipython3",
   "version": "3.10.12"
  }
 },
 "nbformat": 4,
 "nbformat_minor": 2
}
